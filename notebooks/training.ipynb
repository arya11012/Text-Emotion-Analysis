{
 "cells": [
  {
   "cell_type": "code",
   "execution_count": 1,
   "metadata": {},
   "outputs": [],
   "source": [
    "import pandas as pd\n",
    "import numpy as np\n",
    "import matplotlib.pyplot as plt\n",
    "import seaborn as sns\n",
    "import nltk\n",
    "from sklearn.pipeline import Pipeline\n",
    "from sklearn.compose import ColumnTransformer\n",
    "from sklearn.feature_extraction.text import TfidfVectorizer,CountVectorizer\n",
    "from nltk.stem.porter import PorterStemmer\n",
    "from nltk import word_tokenize  \n",
    "import pickle\n",
    "import os"
   ]
  },
  {
   "cell_type": "code",
   "execution_count": 2,
   "metadata": {},
   "outputs": [],
   "source": [
    "df=pd.read_csv(\"data/text_emotion.csv\")"
   ]
  },
  {
   "cell_type": "code",
   "execution_count": 3,
   "metadata": {},
   "outputs": [
    {
     "data": {
      "text/html": [
       "<div>\n",
       "<style scoped>\n",
       "    .dataframe tbody tr th:only-of-type {\n",
       "        vertical-align: middle;\n",
       "    }\n",
       "\n",
       "    .dataframe tbody tr th {\n",
       "        vertical-align: top;\n",
       "    }\n",
       "\n",
       "    .dataframe thead th {\n",
       "        text-align: right;\n",
       "    }\n",
       "</style>\n",
       "<table border=\"1\" class=\"dataframe\">\n",
       "  <thead>\n",
       "    <tr style=\"text-align: right;\">\n",
       "      <th></th>\n",
       "      <th>text</th>\n",
       "      <th>emotion</th>\n",
       "    </tr>\n",
       "  </thead>\n",
       "  <tbody>\n",
       "    <tr>\n",
       "      <th>0</th>\n",
       "      <td>carefully word blog posts amount criticism hea...</td>\n",
       "      <td>0</td>\n",
       "    </tr>\n",
       "    <tr>\n",
       "      <th>1</th>\n",
       "      <td>cannot remember little mermaid feeling carefre...</td>\n",
       "      <td>1</td>\n",
       "    </tr>\n",
       "    <tr>\n",
       "      <th>2</th>\n",
       "      <td>not feeling super well turns cold knocked next...</td>\n",
       "      <td>1</td>\n",
       "    </tr>\n",
       "    <tr>\n",
       "      <th>3</th>\n",
       "      <td>feel honored part group amazing talents</td>\n",
       "      <td>1</td>\n",
       "    </tr>\n",
       "    <tr>\n",
       "      <th>4</th>\n",
       "      <td>think helping also began feel pretty lonely lo...</td>\n",
       "      <td>0</td>\n",
       "    </tr>\n",
       "  </tbody>\n",
       "</table>\n",
       "</div>"
      ],
      "text/plain": [
       "                                                text  emotion\n",
       "0  carefully word blog posts amount criticism hea...        0\n",
       "1  cannot remember little mermaid feeling carefre...        1\n",
       "2  not feeling super well turns cold knocked next...        1\n",
       "3            feel honored part group amazing talents        1\n",
       "4  think helping also began feel pretty lonely lo...        0"
      ]
     },
     "execution_count": 3,
     "metadata": {},
     "output_type": "execute_result"
    }
   ],
   "source": [
    "df.head()"
   ]
  },
  {
   "cell_type": "code",
   "execution_count": 4,
   "metadata": {},
   "outputs": [
    {
     "data": {
      "text/plain": [
       "emotion\n",
       "1    134205\n",
       "0    120334\n",
       "Name: count, dtype: int64"
      ]
     },
     "execution_count": 4,
     "metadata": {},
     "output_type": "execute_result"
    }
   ],
   "source": [
    "df['emotion'].value_counts()"
   ]
  },
  {
   "cell_type": "code",
   "execution_count": 5,
   "metadata": {},
   "outputs": [],
   "source": [
    "# balanced data set"
   ]
  },
  {
   "cell_type": "code",
   "execution_count": 6,
   "metadata": {},
   "outputs": [
    {
     "data": {
      "text/plain": [
       "(254539, 2)"
      ]
     },
     "execution_count": 6,
     "metadata": {},
     "output_type": "execute_result"
    }
   ],
   "source": [
    "df.shape"
   ]
  },
  {
   "cell_type": "code",
   "execution_count": 7,
   "metadata": {},
   "outputs": [],
   "source": [
    "X=df['text']\n",
    "y=df['emotion']"
   ]
  },
  {
   "cell_type": "code",
   "execution_count": 8,
   "metadata": {},
   "outputs": [],
   "source": [
    "#train_test split\n",
    "\n",
    "from sklearn.model_selection import train_test_split"
   ]
  },
  {
   "cell_type": "code",
   "execution_count": 9,
   "metadata": {},
   "outputs": [],
   "source": [
    "X_train,X_test,y_train,y_test=train_test_split(X,y,test_size=0.2,random_state=42,stratify=df['emotion'])"
   ]
  },
  {
   "cell_type": "code",
   "execution_count": 10,
   "metadata": {},
   "outputs": [],
   "source": [
    "# Preprocessing"
   ]
  },
  {
   "cell_type": "code",
   "execution_count": 11,
   "metadata": {},
   "outputs": [],
   "source": [
    "import re\n",
    "def remove_special(text):\n",
    "    clean_text = re.sub(r\"[^a-zA-Z]\", \" \", text)\n",
    "    return clean_text"
   ]
  },
  {
   "cell_type": "code",
   "execution_count": 12,
   "metadata": {},
   "outputs": [],
   "source": [
    "\n",
    "def remove_html(text):\n",
    "    pattern=re.compile('<.*?>')\n",
    "    return pattern.sub(r'', text)"
   ]
  },
  {
   "cell_type": "code",
   "execution_count": 13,
   "metadata": {},
   "outputs": [],
   "source": [
    "def remove_extra_white_spaces(text):\n",
    "    pattern=r'\\s+[a-zA-Z]\\s+'\n",
    "    without_space=re.sub(pattern=pattern,repl=\" \",string=text)\n",
    "    return without_space\n",
    "    "
   ]
  },
  {
   "cell_type": "code",
   "execution_count": null,
   "metadata": {},
   "outputs": [],
   "source": []
  },
  {
   "cell_type": "code",
   "execution_count": 14,
   "metadata": {},
   "outputs": [],
   "source": [
    "from nltk.corpus import stopwords\n",
    "stopwords=stopwords.words('english')"
   ]
  },
  {
   "cell_type": "code",
   "execution_count": 15,
   "metadata": {},
   "outputs": [],
   "source": [
    "from nltk.stem.porter import PorterStemmer\n",
    "ps=PorterStemmer()\n",
    "def stem_words(text):\n",
    "    return \" \".join([ps.stem(word) for word in text.split()])"
   ]
  },
  {
   "cell_type": "code",
   "execution_count": 16,
   "metadata": {},
   "outputs": [
    {
     "name": "stderr",
     "output_type": "stream",
     "text": [
      "[nltk_data] Downloading package stopwords to\n",
      "[nltk_data]     C:\\Users\\sapta\\AppData\\Roaming\\nltk_data...\n",
      "[nltk_data]   Package stopwords is already up-to-date!\n"
     ]
    },
    {
     "data": {
      "text/plain": [
       "True"
      ]
     },
     "execution_count": 16,
     "metadata": {},
     "output_type": "execute_result"
    }
   ],
   "source": [
    "nltk.download('stopwords')"
   ]
  },
  {
   "cell_type": "code",
   "execution_count": 17,
   "metadata": {},
   "outputs": [],
   "source": [
    "\n",
    "\n",
    "\n",
    "def remove_stop(text):\n",
    "    new_text=[]\n",
    "    for word in text.split():\n",
    "        if word in stopwords:\n",
    "            new_text.append('')\n",
    "        else:\n",
    "            new_text.append(word)\n",
    "    x=new_text[:]\n",
    "    new_text.clear()\n",
    "    \n",
    "    return \" \".join(x)"
   ]
  },
  {
   "cell_type": "code",
   "execution_count": 18,
   "metadata": {},
   "outputs": [],
   "source": [
    "X_train=X_train.reset_index()\n",
    "X_test=X_test.reset_index()"
   ]
  },
  {
   "cell_type": "code",
   "execution_count": 19,
   "metadata": {},
   "outputs": [],
   "source": [
    "X_train=X_train.drop(columns=['index'],axis=1)\n",
    "X_test=X_test.drop(columns=['index'],axis=1)"
   ]
  },
  {
   "cell_type": "code",
   "execution_count": 20,
   "metadata": {},
   "outputs": [
    {
     "data": {
      "text/html": [
       "<div>\n",
       "<style scoped>\n",
       "    .dataframe tbody tr th:only-of-type {\n",
       "        vertical-align: middle;\n",
       "    }\n",
       "\n",
       "    .dataframe tbody tr th {\n",
       "        vertical-align: top;\n",
       "    }\n",
       "\n",
       "    .dataframe thead th {\n",
       "        text-align: right;\n",
       "    }\n",
       "</style>\n",
       "<table border=\"1\" class=\"dataframe\">\n",
       "  <thead>\n",
       "    <tr style=\"text-align: right;\">\n",
       "      <th></th>\n",
       "      <th>text</th>\n",
       "    </tr>\n",
       "  </thead>\n",
       "  <tbody>\n",
       "    <tr>\n",
       "      <th>0</th>\n",
       "      <td>feelings victimized</td>\n",
       "    </tr>\n",
       "    <tr>\n",
       "      <th>1</th>\n",
       "      <td>sat chair various times said anything times al...</td>\n",
       "    </tr>\n",
       "    <tr>\n",
       "      <th>2</th>\n",
       "      <td>still challenging feel reassured description son</td>\n",
       "    </tr>\n",
       "    <tr>\n",
       "      <th>3</th>\n",
       "      <td>feel sorry people openly slander pass ill judg...</td>\n",
       "    </tr>\n",
       "    <tr>\n",
       "      <th>4</th>\n",
       "      <td>love earlier master presence could feel lot ca...</td>\n",
       "    </tr>\n",
       "  </tbody>\n",
       "</table>\n",
       "</div>"
      ],
      "text/plain": [
       "                                                text\n",
       "0                                feelings victimized\n",
       "1  sat chair various times said anything times al...\n",
       "2   still challenging feel reassured description son\n",
       "3  feel sorry people openly slander pass ill judg...\n",
       "4  love earlier master presence could feel lot ca..."
      ]
     },
     "execution_count": 20,
     "metadata": {},
     "output_type": "execute_result"
    }
   ],
   "source": [
    "X_train.head()"
   ]
  },
  {
   "cell_type": "code",
   "execution_count": 21,
   "metadata": {},
   "outputs": [],
   "source": [
    "def clean_text(X_train):\n",
    "    X_train['text']=X_train['text'].str.lower()\n",
    "    X_train['text']=X_train['text'].apply(remove_special)\n",
    "    X_train['text']=X_train['text'].apply(remove_html)\n",
    "    X_train['text']=X_train['text'].apply(remove_extra_white_spaces)\n",
    "    X_train['text']=X_train['text'].apply(remove_stop)\n",
    "    X_train['text']=X_train['text'].apply(stem_words)\n",
    "    \n",
    "\n",
    "    return X_train"
   ]
  },
  {
   "cell_type": "code",
   "execution_count": 22,
   "metadata": {},
   "outputs": [],
   "source": [
    "X_train=clean_text(X_train)\n",
    "X_test=clean_text(X_test)"
   ]
  },
  {
   "cell_type": "code",
   "execution_count": 23,
   "metadata": {},
   "outputs": [
    {
     "data": {
      "text/plain": [
       "'nothappi'"
      ]
     },
     "execution_count": 23,
     "metadata": {},
     "output_type": "execute_result"
    }
   ],
   "source": [
    "stem_words('nothappy')"
   ]
  },
  {
   "cell_type": "code",
   "execution_count": 24,
   "metadata": {},
   "outputs": [
    {
     "data": {
      "text/html": [
       "<div>\n",
       "<style scoped>\n",
       "    .dataframe tbody tr th:only-of-type {\n",
       "        vertical-align: middle;\n",
       "    }\n",
       "\n",
       "    .dataframe tbody tr th {\n",
       "        vertical-align: top;\n",
       "    }\n",
       "\n",
       "    .dataframe thead th {\n",
       "        text-align: right;\n",
       "    }\n",
       "</style>\n",
       "<table border=\"1\" class=\"dataframe\">\n",
       "  <thead>\n",
       "    <tr style=\"text-align: right;\">\n",
       "      <th></th>\n",
       "      <th>text</th>\n",
       "    </tr>\n",
       "  </thead>\n",
       "  <tbody>\n",
       "    <tr>\n",
       "      <th>0</th>\n",
       "      <td>feel victim</td>\n",
       "    </tr>\n",
       "    <tr>\n",
       "      <th>1</th>\n",
       "      <td>sat chair variou time said anyth time alway wa...</td>\n",
       "    </tr>\n",
       "    <tr>\n",
       "      <th>2</th>\n",
       "      <td>still challeng feel reassur descript son</td>\n",
       "    </tr>\n",
       "    <tr>\n",
       "      <th>3</th>\n",
       "      <td>feel sorri peopl openli slander pass ill judge...</td>\n",
       "    </tr>\n",
       "    <tr>\n",
       "      <th>4</th>\n",
       "      <td>love earlier master presenc could feel lot cas...</td>\n",
       "    </tr>\n",
       "  </tbody>\n",
       "</table>\n",
       "</div>"
      ],
      "text/plain": [
       "                                                text\n",
       "0                                        feel victim\n",
       "1  sat chair variou time said anyth time alway wa...\n",
       "2           still challeng feel reassur descript son\n",
       "3  feel sorri peopl openli slander pass ill judge...\n",
       "4  love earlier master presenc could feel lot cas..."
      ]
     },
     "execution_count": 24,
     "metadata": {},
     "output_type": "execute_result"
    }
   ],
   "source": [
    "X_train.head()"
   ]
  },
  {
   "cell_type": "code",
   "execution_count": 25,
   "metadata": {},
   "outputs": [],
   "source": [
    "tfidf=TfidfVectorizer(max_features=2000,ngram_range=(1,2))"
   ]
  },
  {
   "cell_type": "code",
   "execution_count": 26,
   "metadata": {},
   "outputs": [],
   "source": [
    "X_train_tfidf=tfidf.fit_transform(X_train['text'])\n",
    "X_test_tfidf=tfidf.transform(X_test['text'])"
   ]
  },
  {
   "cell_type": "code",
   "execution_count": 40,
   "metadata": {},
   "outputs": [
    {
     "data": {
      "text/plain": [
       "array([[0., 0., 0., ..., 0., 0., 0.],\n",
       "       [0., 0., 0., ..., 0., 0., 0.],\n",
       "       [0., 0., 0., ..., 0., 0., 0.],\n",
       "       ...,\n",
       "       [0., 0., 0., ..., 0., 0., 0.],\n",
       "       [0., 0., 0., ..., 0., 0., 0.],\n",
       "       [0., 0., 0., ..., 0., 0., 0.]])"
      ]
     },
     "execution_count": 40,
     "metadata": {},
     "output_type": "execute_result"
    }
   ],
   "source": [
    "X_train_tfidf.toarray()"
   ]
  },
  {
   "cell_type": "code",
   "execution_count": 28,
   "metadata": {},
   "outputs": [
    {
     "name": "stdout",
     "output_type": "stream",
     "text": [
      "Collecting xgboost\n",
      "  Downloading xgboost-1.7.6-py3-none-win_amd64.whl (70.9 MB)\n",
      "                                              0.0/70.9 MB ? eta -:--:--\n",
      "                                              0.0/70.9 MB ? eta -:--:--\n",
      "                                             0.0/70.9 MB 330.3 kB/s eta 0:03:35\n",
      "                                             0.1/70.9 MB 363.1 kB/s eta 0:03:16\n",
      "                                             0.1/70.9 MB 476.3 kB/s eta 0:02:29\n",
      "                                             0.1/70.9 MB 514.3 kB/s eta 0:02:18\n",
      "                                             0.2/70.9 MB 615.9 kB/s eta 0:01:55\n",
      "                                             0.2/70.9 MB 623.6 kB/s eta 0:01:54\n",
      "                                             0.3/70.9 MB 710.0 kB/s eta 0:01:40\n",
      "                                             0.3/70.9 MB 703.7 kB/s eta 0:01:41\n",
      "                                             0.4/70.9 MB 740.5 kB/s eta 0:01:36\n",
      "                                             0.5/70.9 MB 805.0 kB/s eta 0:01:28\n",
      "                                             0.5/70.9 MB 793.0 kB/s eta 0:01:29\n",
      "                                             0.6/70.9 MB 842.9 kB/s eta 0:01:24\n",
      "                                             0.6/70.9 MB 883.0 kB/s eta 0:01:20\n",
      "                                             0.7/70.9 MB 930.9 kB/s eta 0:01:16\n",
      "                                             0.8/70.9 MB 952.3 kB/s eta 0:01:14\n",
      "                                             0.9/70.9 MB 976.9 kB/s eta 0:01:12\n",
      "                                             0.9/70.9 MB 977.8 kB/s eta 0:01:12\n",
      "                                             1.0/70.9 MB 997.8 kB/s eta 0:01:11\n",
      "                                              1.1/70.9 MB 1.0 MB/s eta 0:01:09\n",
      "                                              1.1/70.9 MB 1.0 MB/s eta 0:01:08\n",
      "                                              1.2/70.9 MB 1.0 MB/s eta 0:01:08\n",
      "                                              1.3/70.9 MB 1.1 MB/s eta 0:01:06\n",
      "                                              1.4/70.9 MB 1.1 MB/s eta 0:01:05\n",
      "                                              1.4/70.9 MB 1.1 MB/s eta 0:01:05\n",
      "                                              1.5/70.9 MB 1.1 MB/s eta 0:01:03\n",
      "                                              1.6/70.9 MB 1.1 MB/s eta 0:01:03\n",
      "                                              1.6/70.9 MB 1.1 MB/s eta 0:01:02\n",
      "                                              1.7/70.9 MB 1.2 MB/s eta 0:01:01\n",
      "     -                                        1.8/70.9 MB 1.2 MB/s eta 0:01:00\n",
      "     -                                        1.9/70.9 MB 1.2 MB/s eta 0:01:00\n",
      "     -                                        2.0/70.9 MB 1.2 MB/s eta 0:00:58\n",
      "     -                                        2.0/70.9 MB 1.2 MB/s eta 0:00:58\n",
      "     -                                        2.1/70.9 MB 1.2 MB/s eta 0:00:57\n",
      "     -                                        2.2/70.9 MB 1.2 MB/s eta 0:00:56\n",
      "     -                                        2.3/70.9 MB 1.3 MB/s eta 0:00:54\n",
      "     -                                        2.4/70.9 MB 1.3 MB/s eta 0:00:53\n",
      "     -                                        2.5/70.9 MB 1.3 MB/s eta 0:00:52\n",
      "     -                                        2.7/70.9 MB 1.4 MB/s eta 0:00:51\n",
      "     -                                        2.8/70.9 MB 1.4 MB/s eta 0:00:50\n",
      "     -                                        2.9/70.9 MB 1.4 MB/s eta 0:00:49\n",
      "     -                                        3.0/70.9 MB 1.4 MB/s eta 0:00:48\n",
      "     -                                        3.1/70.9 MB 1.4 MB/s eta 0:00:48\n",
      "     -                                        3.2/70.9 MB 1.4 MB/s eta 0:00:47\n",
      "     -                                        3.3/70.9 MB 1.5 MB/s eta 0:00:46\n",
      "     -                                        3.4/70.9 MB 1.5 MB/s eta 0:00:46\n",
      "     --                                       3.6/70.9 MB 1.5 MB/s eta 0:00:45\n",
      "     --                                       3.7/70.9 MB 1.5 MB/s eta 0:00:44\n",
      "     --                                       3.8/70.9 MB 1.6 MB/s eta 0:00:43\n",
      "     --                                       4.0/70.9 MB 1.6 MB/s eta 0:00:42\n",
      "     --                                       4.2/70.9 MB 1.7 MB/s eta 0:00:41\n",
      "     --                                       4.4/70.9 MB 1.7 MB/s eta 0:00:40\n",
      "     --                                       4.7/70.9 MB 1.7 MB/s eta 0:00:39\n",
      "     --                                       4.9/70.9 MB 1.8 MB/s eta 0:00:38\n",
      "     --                                       5.1/70.9 MB 1.8 MB/s eta 0:00:37\n",
      "     --                                       5.3/70.9 MB 1.9 MB/s eta 0:00:36\n",
      "     ---                                      5.6/70.9 MB 1.9 MB/s eta 0:00:35\n",
      "     ---                                      5.7/70.9 MB 1.9 MB/s eta 0:00:35\n",
      "     ---                                      6.0/70.9 MB 2.0 MB/s eta 0:00:33\n",
      "     ---                                      6.0/70.9 MB 2.0 MB/s eta 0:00:34\n",
      "     ---                                      6.3/70.9 MB 2.0 MB/s eta 0:00:33\n",
      "     ---                                      6.5/70.9 MB 2.0 MB/s eta 0:00:32\n",
      "     ---                                      6.7/70.9 MB 2.1 MB/s eta 0:00:31\n",
      "     ---                                      6.9/70.9 MB 2.1 MB/s eta 0:00:31\n",
      "     ----                                     7.1/70.9 MB 2.1 MB/s eta 0:00:30\n",
      "     ----                                     7.4/70.9 MB 2.2 MB/s eta 0:00:29\n",
      "     ----                                     7.5/70.9 MB 2.2 MB/s eta 0:00:29\n",
      "     ----                                     7.8/70.9 MB 2.3 MB/s eta 0:00:29\n",
      "     ----                                     8.0/70.9 MB 2.3 MB/s eta 0:00:28\n",
      "     ----                                     8.3/70.9 MB 2.3 MB/s eta 0:00:27\n",
      "     ----                                     8.5/70.9 MB 2.4 MB/s eta 0:00:27\n",
      "     ----                                     8.8/70.9 MB 2.4 MB/s eta 0:00:26\n",
      "     -----                                    9.1/70.9 MB 2.5 MB/s eta 0:00:25\n",
      "     -----                                    9.5/70.9 MB 2.5 MB/s eta 0:00:25\n",
      "     -----                                    9.8/70.9 MB 2.6 MB/s eta 0:00:24\n",
      "     -----                                    10.1/70.9 MB 2.6 MB/s eta 0:00:23\n",
      "     -----                                    10.5/70.9 MB 2.9 MB/s eta 0:00:21\n",
      "     ------                                   10.9/70.9 MB 3.2 MB/s eta 0:00:19\n",
      "     ------                                   11.5/70.9 MB 3.6 MB/s eta 0:00:17\n",
      "     ------                                   11.7/70.9 MB 3.8 MB/s eta 0:00:16\n",
      "     ------                                   12.0/70.9 MB 4.0 MB/s eta 0:00:15\n",
      "     ------                                   12.3/70.9 MB 4.2 MB/s eta 0:00:14\n",
      "     -------                                  12.5/70.9 MB 4.3 MB/s eta 0:00:14\n",
      "     -------                                  12.9/70.9 MB 4.5 MB/s eta 0:00:13\n",
      "     -------                                  13.2/70.9 MB 4.7 MB/s eta 0:00:13\n",
      "     -------                                  13.6/70.9 MB 5.0 MB/s eta 0:00:12\n",
      "     -------                                  14.0/70.9 MB 5.2 MB/s eta 0:00:12\n",
      "     --------                                 14.4/70.9 MB 5.3 MB/s eta 0:00:11\n",
      "     --------                                 15.2/70.9 MB 5.7 MB/s eta 0:00:10\n",
      "     --------                                 15.8/70.9 MB 6.0 MB/s eta 0:00:10\n",
      "     ---------                                16.3/70.9 MB 6.4 MB/s eta 0:00:09\n",
      "     ---------                                16.8/70.9 MB 6.6 MB/s eta 0:00:09\n",
      "     ---------                                17.3/70.9 MB 6.8 MB/s eta 0:00:08\n",
      "     ---------                                17.7/70.9 MB 7.0 MB/s eta 0:00:08\n",
      "     ----------                               18.1/70.9 MB 7.3 MB/s eta 0:00:08\n",
      "     ----------                               18.7/70.9 MB 7.4 MB/s eta 0:00:08\n",
      "     ----------                               19.2/70.9 MB 7.6 MB/s eta 0:00:07\n",
      "     -----------                              19.6/70.9 MB 7.7 MB/s eta 0:00:07\n",
      "     -----------                              20.1/70.9 MB 7.8 MB/s eta 0:00:07\n",
      "     -----------                              20.5/70.9 MB 7.8 MB/s eta 0:00:07\n",
      "     -----------                              20.9/70.9 MB 7.8 MB/s eta 0:00:07\n",
      "     ------------                             21.6/70.9 MB 8.0 MB/s eta 0:00:07\n",
      "     ------------                             22.0/70.9 MB 8.2 MB/s eta 0:00:06\n",
      "     ------------                             22.7/70.9 MB 8.5 MB/s eta 0:00:06\n",
      "     -------------                            23.3/70.9 MB 9.0 MB/s eta 0:00:06\n",
      "     -------------                            23.9/70.9 MB 9.2 MB/s eta 0:00:06\n",
      "     -------------                            24.7/70.9 MB 9.6 MB/s eta 0:00:05\n",
      "     --------------                           25.2/70.9 MB 9.6 MB/s eta 0:00:05\n",
      "     --------------                           25.6/70.9 MB 9.5 MB/s eta 0:00:05\n",
      "     --------------                           26.1/70.9 MB 9.6 MB/s eta 0:00:05\n",
      "     ---------------                          26.9/70.9 MB 9.8 MB/s eta 0:00:05\n",
      "     ---------------                          27.5/70.9 MB 9.8 MB/s eta 0:00:05\n",
      "     ---------------                          28.0/70.9 MB 9.9 MB/s eta 0:00:05\n",
      "     ----------------                         28.5/70.9 MB 9.8 MB/s eta 0:00:05\n",
      "     ----------------                         28.9/70.9 MB 9.9 MB/s eta 0:00:05\n",
      "     ----------------                         29.6/70.9 MB 9.9 MB/s eta 0:00:05\n",
      "     ----------------                        30.1/70.9 MB 10.1 MB/s eta 0:00:05\n",
      "     ----------------                        30.7/70.9 MB 10.2 MB/s eta 0:00:04\n",
      "     -----------------                       31.2/70.9 MB 10.2 MB/s eta 0:00:04\n",
      "     -----------------                       31.7/70.9 MB 10.1 MB/s eta 0:00:04\n",
      "     -----------------                       32.3/70.9 MB 10.1 MB/s eta 0:00:04\n",
      "     ------------------                       32.8/70.9 MB 9.8 MB/s eta 0:00:04\n",
      "     ------------------                       33.5/70.9 MB 9.8 MB/s eta 0:00:04\n",
      "     -------------------                      34.6/70.9 MB 9.8 MB/s eta 0:00:04\n",
      "     -------------------                      35.2/70.9 MB 9.9 MB/s eta 0:00:04\n",
      "     --------------------                     35.6/70.9 MB 9.8 MB/s eta 0:00:04\n",
      "     --------------------                     36.1/70.9 MB 9.8 MB/s eta 0:00:04\n",
      "     --------------------                     36.6/70.9 MB 9.8 MB/s eta 0:00:04\n",
      "     --------------------                     37.1/70.9 MB 9.8 MB/s eta 0:00:04\n",
      "     ---------------------                    37.9/70.9 MB 9.9 MB/s eta 0:00:04\n",
      "     ---------------------                    38.6/70.9 MB 9.8 MB/s eta 0:00:04\n",
      "     ---------------------                   39.2/70.9 MB 10.1 MB/s eta 0:00:04\n",
      "     ---------------------                   39.7/70.9 MB 10.1 MB/s eta 0:00:04\n",
      "     ----------------------                  40.1/70.9 MB 10.1 MB/s eta 0:00:04\n",
      "     ----------------------                   40.5/70.9 MB 9.9 MB/s eta 0:00:04\n",
      "     -----------------------                  40.9/70.9 MB 9.9 MB/s eta 0:00:04\n",
      "     -----------------------                  41.5/70.9 MB 9.9 MB/s eta 0:00:03\n",
      "     -----------------------                  41.9/70.9 MB 9.9 MB/s eta 0:00:03\n",
      "     -----------------------                 42.4/70.9 MB 10.1 MB/s eta 0:00:03\n",
      "     -----------------------                 42.9/70.9 MB 10.1 MB/s eta 0:00:03\n",
      "     -----------------------                 43.4/70.9 MB 10.1 MB/s eta 0:00:03\n",
      "     ------------------------                 44.0/70.9 MB 9.9 MB/s eta 0:00:03\n",
      "     -------------------------                44.5/70.9 MB 9.9 MB/s eta 0:00:03\n",
      "     ------------------------                45.0/70.9 MB 10.1 MB/s eta 0:00:03\n",
      "     -------------------------               45.5/70.9 MB 10.1 MB/s eta 0:00:03\n",
      "     -------------------------               45.9/70.9 MB 10.1 MB/s eta 0:00:03\n",
      "     -------------------------               46.4/70.9 MB 10.1 MB/s eta 0:00:03\n",
      "     -------------------------               46.9/70.9 MB 10.1 MB/s eta 0:00:03\n",
      "     --------------------------              47.5/70.9 MB 10.1 MB/s eta 0:00:03\n",
      "     --------------------------              48.0/70.9 MB 10.1 MB/s eta 0:00:03\n",
      "     --------------------------              48.5/70.9 MB 10.1 MB/s eta 0:00:03\n",
      "     ---------------------------              49.0/70.9 MB 9.9 MB/s eta 0:00:03\n",
      "     ---------------------------              49.4/70.9 MB 9.8 MB/s eta 0:00:03\n",
      "     ---------------------------              49.7/70.9 MB 9.5 MB/s eta 0:00:03\n",
      "     ----------------------------             50.2/70.9 MB 9.6 MB/s eta 0:00:03\n",
      "     ----------------------------             50.8/70.9 MB 9.9 MB/s eta 0:00:03\n",
      "     ----------------------------             51.3/70.9 MB 9.9 MB/s eta 0:00:02\n",
      "     -----------------------------            51.9/70.9 MB 9.9 MB/s eta 0:00:02\n",
      "     -----------------------------            52.4/70.9 MB 9.9 MB/s eta 0:00:02\n",
      "     -----------------------------            52.9/70.9 MB 9.9 MB/s eta 0:00:02\n",
      "     ------------------------------           53.5/70.9 MB 9.9 MB/s eta 0:00:02\n",
      "     ------------------------------           54.0/70.9 MB 9.9 MB/s eta 0:00:02\n",
      "     ------------------------------           54.4/70.9 MB 9.9 MB/s eta 0:00:02\n",
      "     ------------------------------          55.1/70.9 MB 10.1 MB/s eta 0:00:02\n",
      "     ------------------------------          55.7/70.9 MB 10.1 MB/s eta 0:00:02\n",
      "     ------------------------------          56.4/70.9 MB 10.2 MB/s eta 0:00:02\n",
      "     -------------------------------         56.9/70.9 MB 10.1 MB/s eta 0:00:02\n",
      "     -------------------------------         57.4/70.9 MB 10.1 MB/s eta 0:00:02\n",
      "     -------------------------------         57.9/70.9 MB 10.1 MB/s eta 0:00:02\n",
      "     --------------------------------         58.3/70.9 MB 9.9 MB/s eta 0:00:02\n",
      "     --------------------------------        58.8/70.9 MB 10.1 MB/s eta 0:00:02\n",
      "     --------------------------------        59.2/70.9 MB 10.1 MB/s eta 0:00:02\n",
      "     --------------------------------        59.7/70.9 MB 10.2 MB/s eta 0:00:02\n",
      "     ---------------------------------       60.1/70.9 MB 10.2 MB/s eta 0:00:02\n",
      "     ---------------------------------       60.6/70.9 MB 10.2 MB/s eta 0:00:02\n",
      "     ---------------------------------       61.1/70.9 MB 10.2 MB/s eta 0:00:01\n",
      "     ---------------------------------       61.7/70.9 MB 10.4 MB/s eta 0:00:01\n",
      "     ----------------------------------      62.3/70.9 MB 10.4 MB/s eta 0:00:01\n",
      "     ----------------------------------      62.9/70.9 MB 10.4 MB/s eta 0:00:01\n",
      "     ----------------------------------      63.3/70.9 MB 10.4 MB/s eta 0:00:01\n",
      "     -----------------------------------     63.8/70.9 MB 10.2 MB/s eta 0:00:01\n",
      "     -----------------------------------     64.2/70.9 MB 10.2 MB/s eta 0:00:01\n",
      "     -----------------------------------     64.8/70.9 MB 10.2 MB/s eta 0:00:01\n",
      "     -----------------------------------     65.2/70.9 MB 10.2 MB/s eta 0:00:01\n",
      "     ------------------------------------    65.8/70.9 MB 10.2 MB/s eta 0:00:01\n",
      "     ------------------------------------    66.3/70.9 MB 10.2 MB/s eta 0:00:01\n",
      "     ------------------------------------    67.3/70.9 MB 10.2 MB/s eta 0:00:01\n",
      "     -------------------------------------   67.7/70.9 MB 10.2 MB/s eta 0:00:01\n",
      "     -------------------------------------   68.3/70.9 MB 10.4 MB/s eta 0:00:01\n",
      "     -------------------------------------   68.7/70.9 MB 10.2 MB/s eta 0:00:01\n",
      "     --------------------------------------  69.3/70.9 MB 10.2 MB/s eta 0:00:01\n",
      "     --------------------------------------  69.8/70.9 MB 10.2 MB/s eta 0:00:01\n",
      "     --------------------------------------  70.2/70.9 MB 10.2 MB/s eta 0:00:01\n",
      "     --------------------------------------  70.6/70.9 MB 10.2 MB/s eta 0:00:01\n",
      "     --------------------------------------  70.9/70.9 MB 10.2 MB/s eta 0:00:01\n",
      "     --------------------------------------  70.9/70.9 MB 10.2 MB/s eta 0:00:01\n",
      "     --------------------------------------  70.9/70.9 MB 10.2 MB/s eta 0:00:01\n",
      "     --------------------------------------  70.9/70.9 MB 10.2 MB/s eta 0:00:01\n",
      "     --------------------------------------  70.9/70.9 MB 10.2 MB/s eta 0:00:01\n",
      "     ---------------------------------------- 70.9/70.9 MB 7.4 MB/s eta 0:00:00\n",
      "Requirement already satisfied: numpy in d:\\text_emotion_analysis\\venv\\lib\\site-packages (from xgboost) (1.24.3)\n",
      "Requirement already satisfied: scipy in d:\\text_emotion_analysis\\venv\\lib\\site-packages (from xgboost) (1.10.1)\n",
      "Installing collected packages: xgboost\n",
      "Successfully installed xgboost-1.7.6\n",
      "Note: you may need to restart the kernel to use updated packages.\n"
     ]
    }
   ],
   "source": [
    "%pip install xgboost"
   ]
  },
  {
   "cell_type": "code",
   "execution_count": null,
   "metadata": {},
   "outputs": [],
   "source": []
  },
  {
   "cell_type": "code",
   "execution_count": 29,
   "metadata": {},
   "outputs": [
    {
     "name": "stdout",
     "output_type": "stream",
     "text": [
      "^C\n",
      "Note: you may need to restart the kernel to use updated packages.\n"
     ]
    }
   ],
   "source": [
    "%pip install catboost"
   ]
  },
  {
   "cell_type": "code",
   "execution_count": 37,
   "metadata": {},
   "outputs": [],
   "source": [
    "from sklearn.linear_model import LogisticRegression\n",
    "from sklearn.metrics import f1_score,roc_auc_score,precision_score,log_loss,accuracy_score\n",
    "from sklearn.svm import SVC\n",
    "from sklearn.ensemble import RandomForestClassifier\n",
    "from sklearn.tree import DecisionTreeClassifier\n",
    "from sklearn.neighbors import KNeighborsClassifier\n",
    "from sklearn.naive_bayes import GaussianNB,MultinomialNB\n",
    "from sklearn.ensemble import GradientBoostingClassifier,AdaBoostClassifier\n",
    "from xgboost import XGBClassifier\n",
    "from catboost import CatBoostClassifier\n",
    "#from lightgbm import LGBMClassifier"
   ]
  },
  {
   "cell_type": "code",
   "execution_count": null,
   "metadata": {},
   "outputs": [],
   "source": []
  },
  {
   "cell_type": "code",
   "execution_count": 40,
   "metadata": {},
   "outputs": [
    {
     "name": "stdout",
     "output_type": "stream",
     "text": [
      "LogisticRegression(solver='liblinear')   Test:  0.950636442209476   Train:  0.9533076987295648\n",
      "============================== \n",
      "\n",
      "RandomForestClassifier(max_depth=2)   Test:  0.5448063172782274   Train:  0.5452067710712023\n",
      "============================== \n",
      "\n",
      "MultinomialNB()   Test:  0.9401272884418952   Train:  0.9416198908810545\n",
      "============================== \n",
      "\n",
      "GradientBoostingClassifier()   Test:  0.8605916555354758   Train:  0.8640432939974758\n",
      "============================== \n",
      "\n",
      "AdaBoostClassifier()   Test:  0.7406105130824232   Train:  0.7438995044958774\n",
      "============================== \n",
      "\n"
     ]
    }
   ],
   "source": [
    "model=[LogisticRegression(solver='liblinear'),RandomForestClassifier(max_depth=2),MultinomialNB(),GradientBoostingClassifier(),AdaBoostClassifier()]\n",
    "for m in model:\n",
    "    m.fit(X_train_tfidf,y_train)\n",
    "    # get importance\n",
    "    y_pred=m.predict(X_test_tfidf)\n",
    "    y_pred_train=m.predict(X_train_tfidf)\n",
    "    print(m,\" \",\"Test: \",accuracy_score(y_test,y_pred),\" \",\"Train: \",accuracy_score(y_train,y_pred_train))\n",
    "    print(\"=\"*30,\"\\n\")"
   ]
  },
  {
   "cell_type": "code",
   "execution_count": null,
   "metadata": {},
   "outputs": [],
   "source": [
    "m=CatBoostClassifier(X_train)\n",
    "m.fit(X_train_tfidf,y_train)\n",
    "    # get importance\n",
    "y_pred=m.predict(X_test_tfidf)\n",
    "y_pred_train=m.predict(X_train_tfidf)\n",
    "print(m,\" \",\"Test: \",accuracy_score(y_test,y_pred),\" \",\"Train: \",accuracy_score(y_train,y_pred_train))\n",
    "print(\"=\"*30,\"\\n\")"
   ]
  },
  {
   "cell_type": "code",
   "execution_count": null,
   "metadata": {},
   "outputs": [],
   "source": [
    "from sklearn.ensemble import StackingClassifier\n",
    "lr=LogisticRegression(solver='liblinear')\n",
    "mnb=MultinomialNB()\n",
    "gbc=GradientBoostingClassifier()"
   ]
  },
  {
   "cell_type": "code",
   "execution_count": null,
   "metadata": {},
   "outputs": [],
   "source": [
    "estimators=[\n",
    "    ('lr',lr),\n",
    "    ('lgbm',lgbm),\n",
    "    ('gbc',gbc),\n",
    "    ('mlp',mlp),\n",
    "    ('rfc',rfc)\n",
    "]\n",
    "​"
   ]
  },
  {
   "cell_type": "code",
   "execution_count": 41,
   "metadata": {},
   "outputs": [],
   "source": [
    "from sklearn.linear_model import LogisticRegression\n",
    "model=LogisticRegression(solver='liblinear')"
   ]
  },
  {
   "cell_type": "code",
   "execution_count": 42,
   "metadata": {},
   "outputs": [
    {
     "data": {
      "text/html": [
       "<style>#sk-container-id-1 {color: black;background-color: white;}#sk-container-id-1 pre{padding: 0;}#sk-container-id-1 div.sk-toggleable {background-color: white;}#sk-container-id-1 label.sk-toggleable__label {cursor: pointer;display: block;width: 100%;margin-bottom: 0;padding: 0.3em;box-sizing: border-box;text-align: center;}#sk-container-id-1 label.sk-toggleable__label-arrow:before {content: \"▸\";float: left;margin-right: 0.25em;color: #696969;}#sk-container-id-1 label.sk-toggleable__label-arrow:hover:before {color: black;}#sk-container-id-1 div.sk-estimator:hover label.sk-toggleable__label-arrow:before {color: black;}#sk-container-id-1 div.sk-toggleable__content {max-height: 0;max-width: 0;overflow: hidden;text-align: left;background-color: #f0f8ff;}#sk-container-id-1 div.sk-toggleable__content pre {margin: 0.2em;color: black;border-radius: 0.25em;background-color: #f0f8ff;}#sk-container-id-1 input.sk-toggleable__control:checked~div.sk-toggleable__content {max-height: 200px;max-width: 100%;overflow: auto;}#sk-container-id-1 input.sk-toggleable__control:checked~label.sk-toggleable__label-arrow:before {content: \"▾\";}#sk-container-id-1 div.sk-estimator input.sk-toggleable__control:checked~label.sk-toggleable__label {background-color: #d4ebff;}#sk-container-id-1 div.sk-label input.sk-toggleable__control:checked~label.sk-toggleable__label {background-color: #d4ebff;}#sk-container-id-1 input.sk-hidden--visually {border: 0;clip: rect(1px 1px 1px 1px);clip: rect(1px, 1px, 1px, 1px);height: 1px;margin: -1px;overflow: hidden;padding: 0;position: absolute;width: 1px;}#sk-container-id-1 div.sk-estimator {font-family: monospace;background-color: #f0f8ff;border: 1px dotted black;border-radius: 0.25em;box-sizing: border-box;margin-bottom: 0.5em;}#sk-container-id-1 div.sk-estimator:hover {background-color: #d4ebff;}#sk-container-id-1 div.sk-parallel-item::after {content: \"\";width: 100%;border-bottom: 1px solid gray;flex-grow: 1;}#sk-container-id-1 div.sk-label:hover label.sk-toggleable__label {background-color: #d4ebff;}#sk-container-id-1 div.sk-serial::before {content: \"\";position: absolute;border-left: 1px solid gray;box-sizing: border-box;top: 0;bottom: 0;left: 50%;z-index: 0;}#sk-container-id-1 div.sk-serial {display: flex;flex-direction: column;align-items: center;background-color: white;padding-right: 0.2em;padding-left: 0.2em;position: relative;}#sk-container-id-1 div.sk-item {position: relative;z-index: 1;}#sk-container-id-1 div.sk-parallel {display: flex;align-items: stretch;justify-content: center;background-color: white;position: relative;}#sk-container-id-1 div.sk-item::before, #sk-container-id-1 div.sk-parallel-item::before {content: \"\";position: absolute;border-left: 1px solid gray;box-sizing: border-box;top: 0;bottom: 0;left: 50%;z-index: -1;}#sk-container-id-1 div.sk-parallel-item {display: flex;flex-direction: column;z-index: 1;position: relative;background-color: white;}#sk-container-id-1 div.sk-parallel-item:first-child::after {align-self: flex-end;width: 50%;}#sk-container-id-1 div.sk-parallel-item:last-child::after {align-self: flex-start;width: 50%;}#sk-container-id-1 div.sk-parallel-item:only-child::after {width: 0;}#sk-container-id-1 div.sk-dashed-wrapped {border: 1px dashed gray;margin: 0 0.4em 0.5em 0.4em;box-sizing: border-box;padding-bottom: 0.4em;background-color: white;}#sk-container-id-1 div.sk-label label {font-family: monospace;font-weight: bold;display: inline-block;line-height: 1.2em;}#sk-container-id-1 div.sk-label-container {text-align: center;}#sk-container-id-1 div.sk-container {/* jupyter's `normalize.less` sets `[hidden] { display: none; }` but bootstrap.min.css set `[hidden] { display: none !important; }` so we also need the `!important` here to be able to override the default hidden behavior on the sphinx rendered scikit-learn.org. See: https://github.com/scikit-learn/scikit-learn/issues/21755 */display: inline-block !important;position: relative;}#sk-container-id-1 div.sk-text-repr-fallback {display: none;}</style><div id=\"sk-container-id-1\" class=\"sk-top-container\"><div class=\"sk-text-repr-fallback\"><pre>LogisticRegression(solver=&#x27;liblinear&#x27;)</pre><b>In a Jupyter environment, please rerun this cell to show the HTML representation or trust the notebook. <br />On GitHub, the HTML representation is unable to render, please try loading this page with nbviewer.org.</b></div><div class=\"sk-container\" hidden><div class=\"sk-item\"><div class=\"sk-estimator sk-toggleable\"><input class=\"sk-toggleable__control sk-hidden--visually\" id=\"sk-estimator-id-1\" type=\"checkbox\" checked><label for=\"sk-estimator-id-1\" class=\"sk-toggleable__label sk-toggleable__label-arrow\">LogisticRegression</label><div class=\"sk-toggleable__content\"><pre>LogisticRegression(solver=&#x27;liblinear&#x27;)</pre></div></div></div></div></div>"
      ],
      "text/plain": [
       "LogisticRegression(solver='liblinear')"
      ]
     },
     "execution_count": 42,
     "metadata": {},
     "output_type": "execute_result"
    }
   ],
   "source": [
    "model.fit(X_train_tfidf,y_train)"
   ]
  },
  {
   "cell_type": "code",
   "execution_count": 43,
   "metadata": {},
   "outputs": [],
   "source": [
    "y_pred_test=model.predict(X_test_tfidf)\n",
    "y_pred_train=model.predict(X_train_tfidf)"
   ]
  },
  {
   "cell_type": "code",
   "execution_count": null,
   "metadata": {},
   "outputs": [],
   "source": [
    "from sklearn.linear_model import LogisticRegression\n",
    "from sklearn.metrics import f1_score,roc_auc_score,precision_score,log_loss\n",
    "from sklearn.svm import SVC\n",
    "from sklearn.ensemble import RandomForestClassifier\n",
    "from sklearn.tree import DecisionTreeClassifier\n",
    "from sklearn.neighbors import KNeighborsClassifier\n",
    "from sklearn.naive_bayes import GaussianNB\n",
    "from sklearn.ensemble import GradientBoostingClassifier,AdaBoostClassifier\n",
    "from xgboost import XGBClassifier\n",
    "from catboost import CatBoostClassifier\n",
    "from lightgbm import LGBMClassifier\n"
   ]
  },
  {
   "cell_type": "code",
   "execution_count": null,
   "metadata": {},
   "outputs": [
    {
     "name": "stdout",
     "output_type": "stream",
     "text": [
      "TRAIN:  0.9533076987295648   TEST:  0.950636442209476\n"
     ]
    }
   ],
   "source": [
    "from sklearn.metrics import accuracy_score\n",
    "print(\"TRAIN: \",accuracy_score(y_train,y_pred_train),\" \",\"TEST: \",accuracy_score(y_test,y_pred_test))"
   ]
  },
  {
   "cell_type": "code",
   "execution_count": null,
   "metadata": {},
   "outputs": [],
   "source": []
  },
  {
   "cell_type": "code",
   "execution_count": null,
   "metadata": {},
   "outputs": [],
   "source": []
  },
  {
   "cell_type": "code",
   "execution_count": null,
   "metadata": {},
   "outputs": [],
   "source": []
  },
  {
   "cell_type": "code",
   "execution_count": null,
   "metadata": {},
   "outputs": [],
   "source": []
  },
  {
   "cell_type": "code",
   "execution_count": null,
   "metadata": {},
   "outputs": [],
   "source": []
  },
  {
   "cell_type": "code",
   "execution_count": null,
   "metadata": {},
   "outputs": [],
   "source": [
    "\n"
   ]
  },
  {
   "cell_type": "code",
   "execution_count": null,
   "metadata": {},
   "outputs": [],
   "source": []
  },
  {
   "cell_type": "code",
   "execution_count": 72,
   "metadata": {},
   "outputs": [
    {
     "data": {
      "text/plain": [
       "'artifacts\\\\model.pkl'"
      ]
     },
     "execution_count": 72,
     "metadata": {},
     "output_type": "execute_result"
    }
   ],
   "source": []
  },
  {
   "cell_type": "code",
   "execution_count": 1,
   "metadata": {},
   "outputs": [],
   "source": [
    "data='saptarsi das is good boy'"
   ]
  },
  {
   "cell_type": "code",
   "execution_count": 5,
   "metadata": {},
   "outputs": [],
   "source": [
    "new_data=pd.Series(data)"
   ]
  },
  {
   "cell_type": "code",
   "execution_count": 6,
   "metadata": {},
   "outputs": [
    {
     "data": {
      "text/plain": [
       "0    saptarsi das is good boy\n",
       "dtype: object"
      ]
     },
     "execution_count": 6,
     "metadata": {},
     "output_type": "execute_result"
    }
   ],
   "source": [
    "new_data"
   ]
  },
  {
   "cell_type": "code",
   "execution_count": 46,
   "metadata": {},
   "outputs": [
    {
     "ename": "FileNotFoundError",
     "evalue": "[Errno 2] No such file or directory: 'clssifier.pkl'",
     "output_type": "error",
     "traceback": [
      "\u001b[1;31m---------------------------------------------------------------------------\u001b[0m",
      "\u001b[1;31mFileNotFoundError\u001b[0m                         Traceback (most recent call last)",
      "Cell \u001b[1;32mIn[46], line 1\u001b[0m\n\u001b[1;32m----> 1\u001b[0m model \u001b[39m=\u001b[39m pickle\u001b[39m.\u001b[39mload(\u001b[39mopen\u001b[39;49m(\u001b[39m'\u001b[39;49m\u001b[39mclssifier.pkl\u001b[39;49m\u001b[39m'\u001b[39;49m,\u001b[39m'\u001b[39;49m\u001b[39mrb\u001b[39;49m\u001b[39m'\u001b[39;49m))\n",
      "File \u001b[1;32md:\\Text_Emotion_Analysis\\venv\\lib\\site-packages\\IPython\\core\\interactiveshell.py:284\u001b[0m, in \u001b[0;36m_modified_open\u001b[1;34m(file, *args, **kwargs)\u001b[0m\n\u001b[0;32m    277\u001b[0m \u001b[39mif\u001b[39;00m file \u001b[39min\u001b[39;00m {\u001b[39m0\u001b[39m, \u001b[39m1\u001b[39m, \u001b[39m2\u001b[39m}:\n\u001b[0;32m    278\u001b[0m     \u001b[39mraise\u001b[39;00m \u001b[39mValueError\u001b[39;00m(\n\u001b[0;32m    279\u001b[0m         \u001b[39mf\u001b[39m\u001b[39m\"\u001b[39m\u001b[39mIPython won\u001b[39m\u001b[39m'\u001b[39m\u001b[39mt let you open fd=\u001b[39m\u001b[39m{\u001b[39;00mfile\u001b[39m}\u001b[39;00m\u001b[39m by default \u001b[39m\u001b[39m\"\u001b[39m\n\u001b[0;32m    280\u001b[0m         \u001b[39m\"\u001b[39m\u001b[39mas it is likely to crash IPython. If you know what you are doing, \u001b[39m\u001b[39m\"\u001b[39m\n\u001b[0;32m    281\u001b[0m         \u001b[39m\"\u001b[39m\u001b[39myou can use builtins\u001b[39m\u001b[39m'\u001b[39m\u001b[39m open.\u001b[39m\u001b[39m\"\u001b[39m\n\u001b[0;32m    282\u001b[0m     )\n\u001b[1;32m--> 284\u001b[0m \u001b[39mreturn\u001b[39;00m io_open(file, \u001b[39m*\u001b[39;49margs, \u001b[39m*\u001b[39;49m\u001b[39m*\u001b[39;49mkwargs)\n",
      "\u001b[1;31mFileNotFoundError\u001b[0m: [Errno 2] No such file or directory: 'clssifier.pkl'"
     ]
    }
   ],
   "source": [
    "model = pickle.load(open('clssifier.pkl','rb'))"
   ]
  },
  {
   "cell_type": "code",
   "execution_count": null,
   "metadata": {},
   "outputs": [],
   "source": []
  }
 ],
 "metadata": {
  "kernelspec": {
   "display_name": "Python 3",
   "language": "python",
   "name": "python3"
  },
  "language_info": {
   "codemirror_mode": {
    "name": "ipython",
    "version": 3
   },
   "file_extension": ".py",
   "mimetype": "text/x-python",
   "name": "python",
   "nbconvert_exporter": "python",
   "pygments_lexer": "ipython3",
   "version": "3.8.16"
  },
  "orig_nbformat": 4
 },
 "nbformat": 4,
 "nbformat_minor": 2
}
